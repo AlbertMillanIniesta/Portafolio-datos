{
 "cells": [
  {
   "cell_type": "markdown",
   "id": "56a32cbf",
   "metadata": {},
   "source": [
    "# DEPURACIÓN Y CREACIÓN DE NUEVA BASE DE DATOS"
   ]
  },
  {
   "cell_type": "markdown",
   "id": "7420caae",
   "metadata": {},
   "source": [
    "## 1. DEPURACIÓN"
   ]
  },
  {
   "cell_type": "code",
   "execution_count": null,
   "id": "b3532d1d",
   "metadata": {},
   "outputs": [],
   "source": [
    "# CARGA DE LIBRERÍAS\n",
    "\n",
    "import pandas as pd"
   ]
  },
  {
   "cell_type": "code",
   "execution_count": null,
   "id": "4052f3d7",
   "metadata": {},
   "outputs": [],
   "source": [
    "# CARGA DE LA BASE DE DATOS\n",
    "\n",
    "df = pd.read_csv('Registre_d_entitats__serveis_i_establiments_socials__serveis_socials_b_sics_i_especialitzats__20240515.csv', sep=',')\n",
    "\n",
    "print (df)"
   ]
  },
  {
   "cell_type": "code",
   "execution_count": null,
   "id": "c1fb32ec",
   "metadata": {},
   "outputs": [],
   "source": [
    "# Obtención de los diferentes valores de la columna 'Tipologia'\n",
    "valores_tipologia = df['Tipologia'].unique()\n",
    "\n",
    "# Imprimir los diferentes valores\n",
    "print(\"Diferentes valores de la columna 'Tipologia':\")\n",
    "print(valores_tipologia)\n"
   ]
  },
  {
   "cell_type": "code",
   "execution_count": null,
   "id": "dc18628a",
   "metadata": {},
   "outputs": [],
   "source": [
    "# Lista de valores a conservar en la columna 'Tipologia'\n",
    "\n",
    "valores_a_conservar = [\n",
    "    'Servei de centre residencial temporal o permanent per a persones amb discapacitat intel·lectual',\n",
    "    'Servei de llar residència temporal o permanent per a persones amb discapacitat intel·lectual',\n",
    "    'Servei de llar amb suport per a persones amb discapacitat intel·lectual'\n",
    "]\n",
    "\n",
    "# Filtrado del dataframe para conservar sólo las filas con los valores especificados en la lista\n",
    "df = df[df['Tipologia'].isin(valores_a_conservar)]"
   ]
  },
  {
   "cell_type": "code",
   "execution_count": null,
   "id": "54bd2d4b",
   "metadata": {},
   "outputs": [],
   "source": [
    "# Eliminación de la columna del índice si no se ha nombrado correctamente\n",
    "if 'Unnamed: 0' in df.columns:\n",
    "    del df.index.name\n",
    "\n",
    "# Lista de columnas a eliminar\n",
    "columnas_a_eliminar = ['Adreça', 'Telèfon', 'Districte', 'CP', 'NIF']\n",
    "\n",
    "# Eliminación de las columnas especificadas\n",
    "df = df.drop(columns=columnas_a_eliminar)"
   ]
  },
  {
   "cell_type": "code",
   "execution_count": null,
   "id": "6542f060",
   "metadata": {},
   "outputs": [],
   "source": [
    "# Eliminación del espacio en blanco adicional del nombre de la columna 'Inscripció'\n",
    "df.rename(columns=lambda x: x.strip(), inplace=True)\n",
    "\n",
    "# Imprimir los nombres de las columnas actualizados\n",
    "print(df.columns)\n",
    "\n"
   ]
  },
  {
   "cell_type": "code",
   "execution_count": null,
   "id": "464034c2",
   "metadata": {},
   "outputs": [],
   "source": [
    "# Cambiar el nombre de la columna 'Inscripció' a 'Any'\n",
    "df.rename(columns={\"Inscripció\": \"Any\"}, inplace=True)\n",
    "\n",
    "print(\"\\nDataFrame modificado:\")\n",
    "print(df)\n",
    "# Imprimir los nombres de las columnas\n",
    "print(df.columns)\n"
   ]
  },
  {
   "cell_type": "code",
   "execution_count": null,
   "id": "0d08f4ce",
   "metadata": {},
   "outputs": [],
   "source": [
    "# Conversión de la columna 'Inscripció' a formato de fecha\n",
    "df['Any'] = pd.to_datetime(df['Any'])\n",
    "\n",
    "# Extracción sólo del año y asignación a la columna 'Inscripció'\n",
    "df['Any'] = df['Any'].dt.year\n",
    "\n",
    "# Imprimir el dataframe actualizado\n",
    "print(df)\n",
    "\n"
   ]
  },
  {
   "cell_type": "code",
   "execution_count": null,
   "id": "3890b4ff",
   "metadata": {},
   "outputs": [],
   "source": [
    "# Eliminación del índice predeterminado\n",
    "df.reset_index(drop=True, inplace=True)\n",
    "\n",
    "print (df)"
   ]
  },
  {
   "cell_type": "code",
   "execution_count": null,
   "id": "ae8b923d",
   "metadata": {},
   "outputs": [],
   "source": [
    "# Definir el diccionario de mapeo para los cambios de nombres\n",
    "nuevos_nombres = {\n",
    "    'Servei de centre residencial temporal o permanent per a persones amb discapacitat intel·lectual': 'Residència',\n",
    "    'Servei de llar amb suport per a persones amb discapacitat intel·lectual': 'Llar amb suport',\n",
    "    'Servei de llar residència temporal o permanent per a persones amb discapacitat intel·lectual': 'Llar residència'\n",
    "}\n",
    "\n",
    "# Aplicación de los cambios de nombres utilizando el método replace()\n",
    "df['Tipologia'] = df['Tipologia'].replace(nuevos_nombres)\n"
   ]
  },
  {
   "cell_type": "code",
   "execution_count": null,
   "id": "47bc1521",
   "metadata": {},
   "outputs": [],
   "source": [
    "# Creación del archivo 'habitatge1.csv'\n",
    "df.to_csv('habitatge1.csv', index=False)"
   ]
  },
  {
   "cell_type": "markdown",
   "id": "0f9844c0",
   "metadata": {},
   "source": [
    "## 2.CREACIÓN DE BASE DE DATOS CON DATOS ACUMULADOS"
   ]
  },
  {
   "cell_type": "code",
   "execution_count": null,
   "id": "6f0cdf27",
   "metadata": {
    "scrolled": true
   },
   "outputs": [],
   "source": [
    "df2=df"
   ]
  },
  {
   "cell_type": "code",
   "execution_count": null,
   "id": "37107e5c",
   "metadata": {},
   "outputs": [],
   "source": [
    "# Obtención de todas las combinaciones posibles de año, comarca y tipología\n",
    "all_years = df2['Any'].unique()\n",
    "all_comarcas = df2['Comarca'].unique()\n",
    "all_tipologias = df2['Tipologia'].unique()\n",
    "\n",
    "all_combinations = []\n",
    "for year in all_years:\n",
    "    for comarca in all_comarcas:\n",
    "        for tipologia in all_tipologias:\n",
    "            all_combinations.append((year, comarca, tipologia))\n",
    "\n",
    "# Cálculo de las combinaciones faltantes\n",
    "existing_combinations = set(zip(df2['Any'], df2['Comarca'], df2['Tipologia']))\n",
    "missing_combinations = [combo for combo in all_combinations if combo not in existing_combinations]\n",
    "\n",
    "# Creación de un DataFrame con las combinaciones faltantes\n",
    "missing_data = pd.DataFrame(missing_combinations, columns=['Any', 'Comarca', 'Tipologia'])\n",
    "missing_data['Habitatges'] = 0\n",
    "missing_data['Capacitat'] = 0\n",
    "\n",
    "# Concatenación del DataFrame nuevo con las combinaciones faltantes\n",
    "final_df = pd.concat([df2, missing_data])\n",
    "\n",
    "# Agrupación por año, comarca y tipología y cálculo de la suma de la capacidad y el recuento de registros\n",
    "final_df = final_df.groupby(['Any', 'Comarca', 'Tipologia']).agg({'Capacitat': 'sum', 'Registre': 'count'}).reset_index()\n",
    "\n",
    "# Renombrado de la columna 'Registre' como 'Habitatges'\n",
    "final_df.rename(columns={'Registre': 'Habitatges'}, inplace=True)\n",
    "\n",
    "# Ordenación del DataFrame final\n",
    "final_df = final_df.sort_values(by=['Any', 'Comarca', 'Tipologia']).reset_index(drop=True)\n",
    "\n",
    "# Reordenado de las columnas\n",
    "final_df = final_df[['Any', 'Comarca', 'Tipologia', 'Habitatges', 'Capacitat']]\n",
    "\n",
    "print (final_df)"
   ]
  },
  {
   "cell_type": "code",
   "execution_count": null,
   "id": "87634bb3",
   "metadata": {},
   "outputs": [],
   "source": [
    "# Obtención de los diferentes valores de la columna 'Qualificació'\n",
    "valores_qualificacio = df2['Qualificació'].unique()\n",
    "\n",
    "# Cálculo de las ocurrencias de cada variable en 'Qualificació' en función de 'Any', 'Comarca' y 'Tipologia'\n",
    "nuevas_columnas = df2.groupby(['Any', 'Comarca', 'Tipologia'])['Qualificació'].value_counts().unstack(fill_value=0)\n",
    "\n",
    "# Renombrado de las columnas resultantes con los valores de 'Qualificació'\n",
    "nuevas_columnas.columns = [f'{valor}_count' for valor in valores_qualificacio]\n",
    "\n",
    "# Reseteo del índice para convertir los niveles del índice en columnas\n",
    "nuevas_columnas.reset_index(inplace=True)\n",
    "\n",
    "# Unión del DataFrame original con las nuevas columnas\n",
    "final_df = pd.merge(final_df, nuevas_columnas, on=['Any', 'Comarca', 'Tipologia'], how='left')\n",
    "\n",
    "print (final_df)"
   ]
  },
  {
   "cell_type": "code",
   "execution_count": null,
   "id": "f858069d",
   "metadata": {},
   "outputs": [],
   "source": [
    "# Lista de comarcas faltantes\n",
    "comarcas_faltantes = [\"Alta Ribagorça\", \"Lluçanès\", \"Pallars Sobirà\", \"Segarra\", \"Terra Alta\", \"Val d'Aran\"]\n",
    "\n",
    "# Creación de un DataFrame con las comarcas faltantes\n",
    "df_comarcas_faltantes = pd.DataFrame(columns=['Any', 'Comarca', 'Tipologia', 'Habitatges', 'Capacitat'])\n",
    "\n",
    "# Llenado del DataFrame con las comarcas faltantes\n",
    "for comarca in comarcas_faltantes:\n",
    "    for year in df2['Any'].unique():\n",
    "        for tipologia in df2['Tipologia'].unique():\n",
    "            df_comarcas_faltantes = pd.concat([df_comarcas_faltantes, pd.DataFrame({'Any': [year], 'Comarca': [comarca], 'Tipologia': [tipologia], 'Habitatges': [0], 'Capacitat': [0]})], ignore_index=True)\n",
    "\n",
    "# Fusión de df_final con df_comarcas_faltantes\n",
    "df_final = pd.concat([final_df, df_comarcas_faltantes])\n",
    "\n",
    "# Reemplazo de NaN por 0 en las columnas 'Habitatges' y 'Capacitat'\n",
    "df_final['Habitatges'] = df_final['Habitatges'].fillna(0)\n",
    "df_final['Capacitat'] = df_final['Capacitat'].fillna(0)\n",
    "\n",
    "# Conversión de las columnas 'Habitatges' y 'Capacitat' a tipo numérico\n",
    "df_final['Habitatges'] = pd.to_numeric(df_final['Habitatges'])\n",
    "df_final['Capacitat'] = pd.to_numeric(df_final['Capacitat'])\n",
    "\n",
    "# Ordenación del DataFrame final\n",
    "df_final = df_final.sort_values(by=['Any', 'Comarca', 'Tipologia']).reset_index(drop=True)\n",
    "\n",
    "print (df_final)\n"
   ]
  },
  {
   "cell_type": "code",
   "execution_count": null,
   "id": "67f27855",
   "metadata": {},
   "outputs": [],
   "source": [
    "# Cálculo de la suma acumulada para 'Habitatges' y 'Capacitat' por 'Comarca' y 'Tipologia'\n",
    "df_final['Habitatge acumulat'] = df_final.groupby(['Comarca', 'Tipologia'])['Habitatges'].cumsum()\n",
    "df_final['Capacitat acumulada'] = df_final.groupby(['Comarca', 'Tipologia'])['Capacitat'].cumsum()\n",
    "\n",
    "\n",
    "print(df_final)\n"
   ]
  },
  {
   "cell_type": "code",
   "execution_count": null,
   "id": "d1afcfae",
   "metadata": {},
   "outputs": [],
   "source": [
    "# Creación del archivo 'Habitatge2.csv'\n",
    "df_final.to_csv('Habitatge2.csv', index=False)"
   ]
  }
 ],
 "metadata": {
  "kernelspec": {
   "display_name": "Python 3 (ipykernel)",
   "language": "python",
   "name": "python3"
  },
  "language_info": {
   "codemirror_mode": {
    "name": "ipython",
    "version": 3
   },
   "file_extension": ".py",
   "mimetype": "text/x-python",
   "name": "python",
   "nbconvert_exporter": "python",
   "pygments_lexer": "ipython3",
   "version": "3.9.13"
  }
 },
 "nbformat": 4,
 "nbformat_minor": 5
}
